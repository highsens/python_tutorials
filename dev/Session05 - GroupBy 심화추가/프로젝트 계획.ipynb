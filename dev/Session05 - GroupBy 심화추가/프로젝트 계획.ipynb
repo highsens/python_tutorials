{
 "cells": [
  {
   "cell_type": "markdown",
   "metadata": {},
   "source": [
    "개발 내용 \n",
    "1. 라이브러리 선언.\n",
    "2. 데이터 불러오기.\n",
    "3. 타입 살펴보기\n",
    "4. 데이터 정제 하기 (53주차 제거)\n",
    " -. astype(str),str[4:6] != \"53\" 활용하여 제거 \n",
    " -. 음수 데이터 정제 \n",
    " \n",
    "5. 파라미터 데이터 불러오기.\n",
    " -. 특정 상품, 기간등으로 돌려보기\n",
    " -. ma_section1, ma_section2 기간 지정해서 먼저 진행.\n",
    " \n",
    "6. column 대문자 변환 처리.\n",
    " -. sellout\n",
    " \n",
    "7. 정렬 처리.\n",
    "\n",
    "8. 인덱스 reset\n",
    " dataset.reset_index\n",
    " \n",
    "9. YEAR, WEEK 컬럼 분리 생성\n",
    " -. 스트링 타입 변경후 잘라서 생성.STR[0:4], [4:6]\n",
    "\n",
    "11. 이동평균(판매추세량) 생성\n",
    "\n",
    "12. 정제된 판매량의 이동평균 생성 (함수 활용)\n",
    " -. 파라미터 값으로 11번, 12번 생성 할수 있도록 함수 생성.\n",
    " \n",
    "13. 변동률(판매추세량의 표준편차) 생성(함수 활용)\n",
    "\n",
    "14. 그룹바이 안하면 결과 잘못 나올수 있음.\n",
    "\n",
    "15. MA, MSTR 붙여줌.\n",
    "\n",
    "16. 상한선, 하한선 구하기\n",
    " -. BB[\"UPPER_BOUND\"]=bb[\"MA\"]+bb[\"MSTD\"]\n",
    " -. BB[\"LOWER_BOUND\"]=bb[\"MA\"]-bb[\"MSTD\"]\n",
    " \n",
    "17. 정제된 판매량 생성(REFINED_QTY)\n",
    " -. NP.WHERE 활용\n",
    " -. UPPER / LOWER BOUND 범위 밖의 값은 강제 조정\n",
    " \n",
    "18. 스무딩 처리 하기\n",
    " -. 스무딩 펑션 만들어서 활용 하기.\n",
    "\n",
    "19 계절성 지수 산출\n",
    " -. 안정된 시장 = 실제 판매량/스무딩처리\n",
    " -. 불안정시장=정제된판매량/스무딩처리\n",
    " -. 분모 '0' -> '1' 변환 처리 \n",
    " \n",
    "### 20. 지역/상품/주차별 평균값 산정(최종값)\n",
    " -. REGIONID, PRODUCT, WEEK, QTY, MA, STABLE, UNSTABLE\n",
    "21. DB 로 결과값 저장 하기.\n",
    "22. 시각화 차트 검토 하기."
   ]
  },
  {
   "cell_type": "raw",
   "metadata": {},
   "source": []
  }
 ],
 "metadata": {
  "kernelspec": {
   "display_name": "Python 3",
   "language": "python",
   "name": "python3"
  },
  "language_info": {
   "codemirror_mode": {
    "name": "ipython",
    "version": 3
   },
   "file_extension": ".py",
   "mimetype": "text/x-python",
   "name": "python",
   "nbconvert_exporter": "python",
   "pygments_lexer": "ipython3",
   "version": "3.6.4"
  }
 },
 "nbformat": 4,
 "nbformat_minor": 2
}
